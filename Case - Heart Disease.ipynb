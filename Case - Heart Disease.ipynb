{
 "cells": [
  {
   "cell_type": "markdown",
   "metadata": {},
   "source": [
    "# UCI ML Repository: Heart Disease Data Set\n",
    "---\n",
    "### Case Optimum - Paulo Henrique Spada de Moura (Julho/2020)\n",
    "### Aplicação de modelo Random Forest para predição de doenças cardíacas"
   ]
  },
  {
   "cell_type": "markdown",
   "metadata": {},
   "source": [
    "* Importação das bibliotecas básicas (pandas, numpy, etc) + algoritmo de Random Forest do sklearn:"
   ]
  },
  {
   "cell_type": "code",
   "execution_count": null,
   "metadata": {},
   "outputs": [],
   "source": [
    "import pandas as pd\n",
    "import numpy as np\n",
    "import seaborn as sns\n",
    "import matplotlib.pyplot as plt\n",
    "%matplotlib inline\n",
    "\n",
    "from sklearn.ensemble import RandomForestClassifier\n",
    "from sklearn.tree import DecisionTreeClassifier\n",
    "from sklearn.tree import export_graphviz\n",
    "from sklearn.metrics import roc_curve, auc \n",
    "from sklearn.metrics import classification_report \n",
    "from sklearn.metrics import confusion_matrix \n",
    "from sklearn.model_selection import train_test_split\n",
    "\n",
    "import eli5 #realizei o pip install para o pacote -> 'pip install eli5'\n",
    "from eli5.sklearn import PermutationImportance\n",
    "\n",
    "np.random.seed(123)\n",
    "\n",
    "import warnings\n",
    "warnings.filterwarnings('ignore')"
   ]
  },
  {
   "cell_type": "markdown",
   "metadata": {},
   "source": [
    "* Importação do data set através do repositório da UCI e inserção dos nomes das colunas para identificação dos atributos"
   ]
  },
  {
   "cell_type": "code",
   "execution_count": null,
   "metadata": {},
   "outputs": [],
   "source": [
    "colunas = ['age','sex','cp','trstbps','chol','fbs','restecg','thalach','exang','oldpeak','slope','ca','thal','num-target']\n",
    "file = 'https://archive.ics.uci.edu/ml/machine-learning-databases/heart-disease/processed.cleveland.data'\n",
    "heart = pd.read_csv(file, names=colunas)"
   ]
  },
  {
   "cell_type": "code",
   "execution_count": null,
   "metadata": {},
   "outputs": [],
   "source": [
    "heart.head()"
   ]
  },
  {
   "cell_type": "code",
   "execution_count": null,
   "metadata": {},
   "outputs": [],
   "source": [
    "heart.info()"
   ]
  },
  {
   "cell_type": "markdown",
   "metadata": {},
   "source": [
    "De acordo com a descrição do data set, devemos realizar alguns ajustes nas variáveis categóricas para representação mais acurada das informações ao modelo que utilizaremos. Algumas das categorias representadas por números receberão as respectivas labels para melhor aplicação do modelo e interpretação dos resultados:"
   ]
  },
  {
   "cell_type": "code",
   "execution_count": null,
   "metadata": {},
   "outputs": [],
   "source": [
    "heart['sex'][heart['sex'] == 0] = 'female'\n",
    "heart['sex'][heart['sex'] == 1] = 'male'\n",
    "\n",
    "heart['cp'][heart['cp'] == 1] = 'typical angina'\n",
    "heart['cp'][heart['cp'] == 2] = 'atypical angina'\n",
    "heart['cp'][heart['cp'] == 3] = 'non-anginal pain'\n",
    "heart['cp'][heart['cp'] == 4] = 'asymptomatic'\n",
    "\n",
    "heart['fbs'][heart['fbs'] == 0] = '< 120mg/dl'\n",
    "heart['fbs'][heart['fbs'] == 1] = '> 120mg/dl'\n",
    "\n",
    "heart['restecg'][heart['restecg'] == 0] = 'normal'\n",
    "heart['restecg'][heart['restecg'] == 1] = 'ST-T abnormality'\n",
    "heart['restecg'][heart['restecg'] == 2] = 'LVH'\n",
    "\n",
    "heart['exang'][heart['exang'] == 0] = 'no'\n",
    "heart['exang'][heart['exang'] == 1] = 'yes'\n",
    "\n",
    "heart['slope'][heart['slope'] == 1] = 'upsloping'\n",
    "heart['slope'][heart['slope'] == 2] = 'flat'\n",
    "heart['slope'][heart['slope'] == 3] = 'downsloping'\n",
    "\n",
    "heart['thal'][heart['thal'] == '3.0'] = 'normal'\n",
    "heart['thal'][heart['thal'] == '6.0'] = 'fixed defect'\n",
    "heart['thal'][heart['thal'] == '7.0'] = 'reversable defect'"
   ]
  },
  {
   "cell_type": "code",
   "execution_count": null,
   "metadata": {},
   "outputs": [],
   "source": [
    "heart.head()"
   ]
  },
  {
   "cell_type": "markdown",
   "metadata": {},
   "source": [
    "Novamente, de acordo com a descrição da base, em relação à nossa coluna target (presença ou não de doença cardíaca), os valores **1,2,3 e 4** indicam a **presença** de doença cardíaca, enquanto o valor **0 (zero)** indica que não há presença de doença no coração. Dessa forma, utilizaremos a transformação dos valores na coluna target:"
   ]
  },
  {
   "cell_type": "code",
   "execution_count": null,
   "metadata": {},
   "outputs": [],
   "source": [
    "heart['num-target'][heart['num-target'] == 1] = 1\n",
    "heart['num-target'][heart['num-target'] == 2] = 1\n",
    "heart['num-target'][heart['num-target'] == 3] = 1\n",
    "heart['num-target'][heart['num-target'] == 4] = 1"
   ]
  },
  {
   "cell_type": "code",
   "execution_count": null,
   "metadata": {},
   "outputs": [],
   "source": [
    "heart['num-target'].value_counts()"
   ]
  },
  {
   "cell_type": "markdown",
   "metadata": {},
   "source": [
    "Além dos ajustes realizados acima, é necessária a transformação no tipo das variáveis para que sejam aplicadas corretamente no modelo (categóricas e numéricas):"
   ]
  },
  {
   "cell_type": "code",
   "execution_count": null,
   "metadata": {},
   "outputs": [],
   "source": [
    "heart['age'] = heart['age'].astype('int64')\n",
    "heart['sex'] = heart['sex'].astype('object')\n",
    "heart['cp'] = heart['cp'].astype('object')\n",
    "heart['fbs'] = heart['fbs'].astype('object')\n",
    "heart['restecg'] = heart['restecg'].astype('object')\n",
    "heart['exang'] = heart['exang'].astype('object')\n",
    "heart['slope'] = heart['slope'].astype('object')\n",
    "heart['num-target'] = heart['num-target'].astype('object')"
   ]
  },
  {
   "cell_type": "code",
   "execution_count": null,
   "metadata": {},
   "outputs": [],
   "source": [
    "heart.info()"
   ]
  },
  {
   "cell_type": "markdown",
   "metadata": {},
   "source": [
    "A função abaixo foi criada para apresentar os valores únicos por atributo em nosso data set. Com ela, podemos checar se existem valores \"estranhos\" à coluna e avaliarmos como substituí-los:"
   ]
  },
  {
   "cell_type": "code",
   "execution_count": null,
   "metadata": {},
   "outputs": [],
   "source": [
    "def check_unicos():\n",
    "        for col in colunas:\n",
    "            print(heart[col].unique())\n",
    "check_unicos()"
   ]
  },
  {
   "cell_type": "markdown",
   "metadata": {},
   "source": [
    "Foarm identificados alguns caracteres estranhos como \"?\", que possivelmente representam valores não preenchidos no data set. Para realizar a limpeza e tratamento desses dados, substituiremos \"?\" por \"NaN\" (efetivamente nulos) e, em seguida, removeremos as linhas correspondentes à presença desses valores:"
   ]
  },
  {
   "cell_type": "markdown",
   "metadata": {},
   "source": [
    "* Transformação em *NaN*:"
   ]
  },
  {
   "cell_type": "code",
   "execution_count": null,
   "metadata": {},
   "outputs": [],
   "source": [
    "heart[heart == '?'] = np.nan\n",
    "heart.isnull().sum()"
   ]
  },
  {
   "cell_type": "markdown",
   "metadata": {},
   "source": [
    "* Remoção das linhas correspondentes à presença de *NaN*:"
   ]
  },
  {
   "cell_type": "code",
   "execution_count": null,
   "metadata": {},
   "outputs": [],
   "source": [
    "heart = heart.dropna()\n",
    "heart.isnull().sum()"
   ]
  },
  {
   "cell_type": "code",
   "execution_count": null,
   "metadata": {},
   "outputs": [],
   "source": [
    "heart.info()"
   ]
  },
  {
   "cell_type": "markdown",
   "metadata": {},
   "source": [
    "## Aplicação do Random Forest"
   ]
  },
  {
   "cell_type": "markdown",
   "metadata": {},
   "source": [
    "Em termos de aplicação, por tratarmos de uma base de dados um pouco mais complexa, com dados não-linearmente separáveis, optaremos pelo algoritmo de Random Forest, possibilitando maior generalização do fit (em relação ao algoritmo de Árvore de Decisão, por exemplo) e balanceando parâmetros como precisão e overfitting. Em termos de aplicabilidade no mundo real, também observamos frequente utilização do modelo de Random Forest em contextos de medicina."
   ]
  },
  {
   "cell_type": "markdown",
   "metadata": {},
   "source": [
    "Para darmos início à aplicação do modelo, primeiramente **criaremos as dummies** para cada atributo categórico do data set:"
   ]
  },
  {
   "cell_type": "code",
   "execution_count": null,
   "metadata": {},
   "outputs": [],
   "source": [
    "heart = pd.get_dummies(heart, drop_first=True)"
   ]
  },
  {
   "cell_type": "code",
   "execution_count": null,
   "metadata": {},
   "outputs": [],
   "source": [
    "heart.head()"
   ]
  },
  {
   "cell_type": "markdown",
   "metadata": {},
   "source": [
    "Iniciaremos a aplicação do modelo fazendo a divisão da base em 80%/20% para treino e teste, respectivamente, como sugestão das boas práticas (obs: após a criação das dummies, o novo nome da coluna target é **\"num-target_1\"**):"
   ]
  },
  {
   "cell_type": "code",
   "execution_count": null,
   "metadata": {},
   "outputs": [],
   "source": [
    "X_train, X_test, y_train, y_test = train_test_split(heart.drop('num-target_1',1), heart['num-target_1'], test_size = 0.2, random_state = 10)"
   ]
  },
  {
   "cell_type": "code",
   "execution_count": null,
   "metadata": {},
   "outputs": [],
   "source": [
    "modelo = RandomForestClassifier(max_depth=5)\n",
    "modelo.fit(X_train,y_train)"
   ]
  },
  {
   "cell_type": "markdown",
   "metadata": {},
   "source": [
    "* Avaliação do modelo (análise da **matriz de confusão** para avaliação da acuracidade):"
   ]
  },
  {
   "cell_type": "code",
   "execution_count": null,
   "metadata": {},
   "outputs": [],
   "source": [
    "y_predict = modelo.predict(X_test)\n",
    "y_pred_quant = modelo.predict_proba(X_test)[:, 1]\n",
    "y_pred_bin = modelo.predict(X_test)"
   ]
  },
  {
   "cell_type": "code",
   "execution_count": null,
   "metadata": {},
   "outputs": [],
   "source": [
    "# Matriz de confusão:\n",
    "\n",
    "confusion_matrix = confusion_matrix(y_test, y_pred_bin)\n",
    "confusion_matrix"
   ]
  },
  {
   "cell_type": "markdown",
   "metadata": {},
   "source": [
    "* Descrição dos parâmetros de sensibilidade e especificidade (VP = verdadeiro positivo; VN = verdadeiro negativo; FP = falso positivo; FN = falso negativo):\n",
    "    > * **Sensibilidade**: VP/(VP+FN)\n",
    "    > * **Especificidade**: VN/(VN+FP)"
   ]
  },
  {
   "cell_type": "code",
   "execution_count": null,
   "metadata": {},
   "outputs": [],
   "source": [
    "total = sum(sum(confusion_matrix))\n",
    "\n",
    "sensibilidade = confusion_matrix[0,0]/(confusion_matrix[0,0] + confusion_matrix[1,0])\n",
    "print('Sensibilidade: ', sensibilidade)\n",
    "\n",
    "especificidade = confusion_matrix[1,1]/(confusion_matrix[1,1] + confusion_matrix[0,1])\n",
    "print('Especificidade: ', especificidade)"
   ]
  },
  {
   "cell_type": "markdown",
   "metadata": {},
   "source": [
    "* Avaliação da **curva ROC** para a variável de classificação target binária:\n",
    "    > A curva ROC é uma FDA (função de distribuição acumulada) para plotagem da taxa de \"verdadeiros positivos\" *versus* \"falsos positivos\", ou seja, da **sensibilidade** (ou **probabilidade de detecção**) *versus* a probabiliadde de \"alarme falso\";\n",
    "    > No caso abaixo, temos \"tfp = Taxa de Falsos Positivos\" e \"tvp = Taxa de Verdadeiros Positivos\";"
   ]
  },
  {
   "cell_type": "code",
   "execution_count": null,
   "metadata": {},
   "outputs": [],
   "source": [
    "tfp, tvp, thresholds = roc_curve(y_test, y_pred_quant)\n",
    "\n",
    "fig, ax = plt.subplots()\n",
    "ax.plot(tfp, tvp)\n",
    "plt.xlim([0.0, 1.0])\n",
    "plt.ylim([0.0, 1.0])\n",
    "plt.rcParams['font.size'] = 10\n",
    "plt.title('Curva ROC para classificação de doenças cardíacas')\n",
    "plt.xlabel('Falsos positivos (1-especificidade)')\n",
    "plt.ylabel('Verdadeiros positivos (sensibilidade)')\n",
    "plt.grid(True)"
   ]
  },
  {
   "cell_type": "markdown",
   "metadata": {},
   "source": [
    "Para avaliação da performance do modelo, podemos calcular a integral da função geradora da curva ROC ou, basicamente, o valor de **área abaixo da curva ROC (\"AUC\" - *Area Under the Curve*)**. Serão utilizados os parâmetros aproximados abaixo:\n",
    "* **0.90 - 1.00** = excelente;\n",
    "* **0.80 - 0.90** = bom;\n",
    "* **0.70 - 0.80** = regular\n",
    "* **0.60 - 0.70** = ruim\n",
    "* **0.50 - 0.60** = falho"
   ]
  },
  {
   "cell_type": "code",
   "execution_count": null,
   "metadata": {},
   "outputs": [],
   "source": [
    "auc(tfp,tvp)"
   ]
  },
  {
   "cell_type": "markdown",
   "metadata": {},
   "source": [
    "Com base no resultado acima, podemos assumir uma acuracidade de, aproximadamente, **90,5%** para o modelo de Random Forest."
   ]
  },
  {
   "cell_type": "markdown",
   "metadata": {},
   "source": [
    "Apenas como complemento, podemos utilizar o recurso e permutação das variáveis (através do pacote **'elif5'**) para melhor compreensão das predições e os respectivos pesos das variáveis independentes no modelo:"
   ]
  },
  {
   "cell_type": "code",
   "execution_count": null,
   "metadata": {},
   "outputs": [],
   "source": [
    "perm = PermutationImportance(modelo, random_state=1).fit(X_test, y_test)\n",
    "eli5.show_weights(perm, feature_names = X_test.columns.tolist())"
   ]
  },
  {
   "cell_type": "markdown",
   "metadata": {},
   "source": [
    "Observando a tabela acima, compreendemos que o fator de maior influência, dentre as variáveis consideradas no modelo, para ocorrência de doença cardíaca é a presença de uma desordem no sangue conhecida por *\"Thalassemia\"*, dentro de uma característica de \"defeito reversível\". De acordo com alguns dos artigos produzidos em cima do data set (UCI), a condição de defeito reversível (*\"reversible defect\"*) durante a prática de atividades físicas costuma indicar a existência de bloqueio nas artérias coronárias, levando à condição cardíaca."
   ]
  }
 ],
 "metadata": {
  "kernelspec": {
   "display_name": "Python 3",
   "language": "python",
   "name": "python3"
  },
  "language_info": {
   "codemirror_mode": {
    "name": "ipython",
    "version": 3
   },
   "file_extension": ".py",
   "mimetype": "text/x-python",
   "name": "python",
   "nbconvert_exporter": "python",
   "pygments_lexer": "ipython3",
   "version": "3.7.1"
  }
 },
 "nbformat": 4,
 "nbformat_minor": 2
}
